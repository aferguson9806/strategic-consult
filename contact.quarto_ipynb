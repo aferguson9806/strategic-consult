{
  "cells": [
    {
      "cell_type": "markdown",
      "metadata": {},
      "source": [
        "# Contact SCI\n",
        "\n",
        "## Contact\n",
        "- Bob Ferguson\n",
        "- Strategic Consulting, Inc.\n",
        "- Telephone: +1 443-244-5245\n",
        "- Email: bob@strategic-consult.com\n",
        "\n",
        "## Send Us A Message\n",
        "\n",
        "\n",
        "\n",
        "\n",
        "```{html}\n",
        "<iframe src=\"https://docs.google.com/forms/d/e/1FAIpQLSeDn3nAfadygC2mX3xEDGM0asnZvsB-GKau2vaWpK0UH0MIww/viewform?embedded=true\" width=\"640\" height=\"1091\" frameborder=\"0\" marginheight=\"0\" marginwidth=\"0\">Loading…</iframe>\n",
        "```"
      ],
      "id": "1a493fd2"
    }
  ],
  "metadata": {
    "kernelspec": {
      "name": "python3",
      "language": "python",
      "display_name": "Python 3",
      "path": "C:\\Users\\aferg\\AppData\\Roaming\\Python\\share\\jupyter\\kernels\\python3"
    }
  },
  "nbformat": 4,
  "nbformat_minor": 5
}